{
 "cells": [
  {
   "cell_type": "markdown",
   "id": "5b89f724",
   "metadata": {},
   "source": [
    "Import the Dependencies"
   ]
  },
  {
   "cell_type": "code",
   "execution_count": null,
   "id": "fbf8c866",
   "metadata": {},
   "outputs": [],
   "source": [
    "import numpy as np\n",
    "import pandas as pd\n",
    "from sklearn.preprocessing import StandardScaler\n",
    "from sklearn.model_selection import train_test_split\n",
    "from sklearn import svm\n",
    "from sklearn.metrics import accuracy_score"
   ]
  },
  {
   "cell_type": "markdown",
   "id": "3f4a5c46",
   "metadata": {},
   "source": [
    "Data Collection and analysis   \n",
    "PIMA Diabetes Dataset"
   ]
  },
  {
   "cell_type": "code",
   "execution_count": null,
   "id": "d0e411e2",
   "metadata": {},
   "outputs": [],
   "source": [
    "#loading the diabetes dataset to a pandas DataFrame\n",
    "diabetes_dataset = pd.read_csv('diabetes.csv')"
   ]
  },
  {
   "cell_type": "code",
   "execution_count": null,
   "id": "bdd98cfd",
   "metadata": {},
   "outputs": [],
   "source": [
    "# Print the first 5 rows of the dataset\n",
    "diabetes_dataset.head()"
   ]
  },
  {
   "cell_type": "code",
   "execution_count": null,
   "id": "9c974ca5",
   "metadata": {},
   "outputs": [],
   "source": [
    "# Number of rows and columns in this dataset\n",
    "diabetes_dataset.shape"
   ]
  },
  {
   "cell_type": "code",
   "execution_count": null,
   "id": "cf69027a",
   "metadata": {},
   "outputs": [],
   "source": [
    "# getting the statistical measures of the data\n",
    "diabetes_dataset.describe()"
   ]
  },
  {
   "cell_type": "code",
   "execution_count": null,
   "id": "8b240e30",
   "metadata": {},
   "outputs": [],
   "source": [
    "diabetes_dataset['Outcome'].value_counts()"
   ]
  },
  {
   "cell_type": "markdown",
   "id": "fb91228c",
   "metadata": {},
   "source": [
    "0 --> Non-Diabetic,  \n",
    "1 --> Diabetic"
   ]
  },
  {
   "cell_type": "code",
   "execution_count": null,
   "id": "3e164912",
   "metadata": {},
   "outputs": [],
   "source": [
    "diabetes_dataset.groupby('Outcome').mean()"
   ]
  },
  {
   "cell_type": "code",
   "execution_count": null,
   "id": "0848d875",
   "metadata": {},
   "outputs": [],
   "source": [
    "# Creating dependent and independent variable\n",
    "X = diabetes_dataset.drop(columns= 'Outcome', axis=1)\n",
    "Y = diabetes_dataset['Outcome']"
   ]
  },
  {
   "cell_type": "code",
   "execution_count": null,
   "id": "3a87d11c",
   "metadata": {},
   "outputs": [],
   "source": [
    "print(X)"
   ]
  },
  {
   "cell_type": "code",
   "execution_count": null,
   "id": "9ba66936",
   "metadata": {},
   "outputs": [],
   "source": [
    "print(Y)"
   ]
  },
  {
   "cell_type": "markdown",
   "id": "03af3ad5",
   "metadata": {},
   "source": [
    "Data Standardization"
   ]
  },
  {
   "cell_type": "code",
   "execution_count": null,
   "id": "4b924130",
   "metadata": {},
   "outputs": [],
   "source": [
    "# scaler = StandardScaler()"
   ]
  },
  {
   "cell_type": "code",
   "execution_count": null,
   "id": "9391d86a",
   "metadata": {},
   "outputs": [],
   "source": [
    "# scaler.fit(X)"
   ]
  },
  {
   "cell_type": "code",
   "execution_count": null,
   "id": "2b4db812",
   "metadata": {},
   "outputs": [],
   "source": [
    "# standardized_data = scaler.transform(X)"
   ]
  },
  {
   "cell_type": "code",
   "execution_count": null,
   "id": "0a47c824",
   "metadata": {},
   "outputs": [],
   "source": [
    "# standardized_data = scaler.fit_transform(X)"
   ]
  },
  {
   "cell_type": "code",
   "execution_count": null,
   "id": "49600f4a",
   "metadata": {},
   "outputs": [],
   "source": [
    "# print(standardized_data)"
   ]
  },
  {
   "cell_type": "code",
   "execution_count": null,
   "id": "4a64b12c",
   "metadata": {},
   "outputs": [],
   "source": [
    "# X = standardized_data\n",
    "# Y = diabetes_dataset['Outcome']"
   ]
  },
  {
   "cell_type": "code",
   "execution_count": null,
   "id": "d8e0bed7",
   "metadata": {},
   "outputs": [],
   "source": [
    "print(X)\n",
    "print(Y)"
   ]
  },
  {
   "cell_type": "markdown",
   "id": "156bb29c",
   "metadata": {},
   "source": [
    "Train Test Split"
   ]
  },
  {
   "cell_type": "code",
   "execution_count": null,
   "id": "4a74dec5",
   "metadata": {},
   "outputs": [],
   "source": [
    "X_train, X_test, Y_train, Y_test = train_test_split(X,Y, test_size=0.2, stratify=Y, random_state=1)"
   ]
  },
  {
   "cell_type": "code",
   "execution_count": null,
   "id": "55bbc0c5",
   "metadata": {},
   "outputs": [],
   "source": [
    "print(X.shape, X_train.shape, X_test.shape)"
   ]
  },
  {
   "cell_type": "markdown",
   "id": "50320ec0",
   "metadata": {},
   "source": [
    "Training the Model"
   ]
  },
  {
   "cell_type": "code",
   "execution_count": null,
   "id": "79e074f4",
   "metadata": {},
   "outputs": [],
   "source": [
    "classifier = svm.SVC(kernel='linear')"
   ]
  },
  {
   "cell_type": "code",
   "execution_count": null,
   "id": "228563a5",
   "metadata": {},
   "outputs": [],
   "source": [
    "# training the svm classifier\n",
    "classifier.fit(X_train, Y_train)"
   ]
  },
  {
   "cell_type": "markdown",
   "id": "b59d453b",
   "metadata": {},
   "source": [
    "Model Evaluation,  \n",
    "Accuracy Acore"
   ]
  },
  {
   "cell_type": "code",
   "execution_count": null,
   "id": "64d2a1f4",
   "metadata": {},
   "outputs": [],
   "source": [
    "## Accuracy score on the training data\n",
    "X_train_prediction = classifier.predict(X_train)\n",
    "training_data_accuracy = accuracy_score(X_train_prediction, Y_train)"
   ]
  },
  {
   "cell_type": "code",
   "execution_count": null,
   "id": "eebe7ff7",
   "metadata": {},
   "outputs": [],
   "source": [
    "print(\"Accuracy score of the training data: \",training_data_accuracy)"
   ]
  },
  {
   "cell_type": "code",
   "execution_count": null,
   "id": "9526d378",
   "metadata": {},
   "outputs": [],
   "source": [
    "## Accuracy score on the test data\n",
    "X_test_prediction = classifier.predict(X_test)\n",
    "test_data_accuracy = accuracy_score(X_test_prediction, Y_test)"
   ]
  },
  {
   "cell_type": "code",
   "execution_count": null,
   "id": "b35c1c3c",
   "metadata": {},
   "outputs": [],
   "source": [
    "print(\"Accuracy score of the test data: \",test_data_accuracy)"
   ]
  },
  {
   "cell_type": "markdown",
   "id": "dab99fb7",
   "metadata": {},
   "source": [
    "Making a Predictive System"
   ]
  },
  {
   "cell_type": "code",
   "execution_count": null,
   "id": "3200cd5f",
   "metadata": {},
   "outputs": [],
   "source": [
    "input_data = (6,148,72,35,0,33.6,0.627,50)\n",
    "\n",
    "# Changing the input_data to numpy array\n",
    "input_data_as_numpy_array = np.asarray(input_data)\n",
    "\n",
    "# Reshape the array as we are predicting for one instance (for 1 data point)\n",
    "input_data_reshaped = input_data_as_numpy_array.reshape(1,-1)\n",
    "\n",
    "# Standardize the input_databsa\n",
    "# std_data = scaler.transform(input_data_reshape)\n",
    "# print(std_data)\n",
    "\n",
    "prediction = classifier.predict(input_data_reshaped)\n",
    "print(prediction)\n",
    "\n",
    "if (prediction[0] == 0):\n",
    "    print(\"The person is not diabetic\")\n",
    "else:\n",
    "    print(\"The Person is diabetic\")\n",
    "        "
   ]
  }
 ],
 "metadata": {
  "kernelspec": {
   "display_name": "Python 3 (ipykernel)",
   "language": "python",
   "name": "python3"
  },
  "language_info": {
   "codemirror_mode": {
    "name": "ipython",
    "version": 3
   },
   "file_extension": ".py",
   "mimetype": "text/x-python",
   "name": "python",
   "nbconvert_exporter": "python",
   "pygments_lexer": "ipython3",
   "version": "3.7.8"
  }
 },
 "nbformat": 4,
 "nbformat_minor": 5
}
